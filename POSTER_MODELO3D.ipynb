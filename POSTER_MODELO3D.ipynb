{
 "cells": [
  {
   "cell_type": "code",
   "execution_count": 1,
   "id": "855b6814-4711-4919-99be-d13d91241c0d",
   "metadata": {},
   "outputs": [
    {
     "name": "stdout",
     "output_type": "stream",
     "text": [
      "No module named 'osgeo'\n",
      "Not subsurface compatibility available\n"
     ]
    }
   ],
   "source": [
    "import gempy as gp\n",
    "import jinja2\n",
    "import ipyvtklink"
   ]
  },
  {
   "cell_type": "code",
   "execution_count": 2,
   "id": "ca30d566-0d69-4de0-a5a8-769417e07785",
   "metadata": {},
   "outputs": [],
   "source": [
    "import numpy as np\n",
    "%matplotlib inline"
   ]
  },
  {
   "cell_type": "code",
   "execution_count": 3,
   "id": "2a320e6c-e78d-4775-88de-854ce531dd35",
   "metadata": {},
   "outputs": [
    {
     "name": "stdout",
     "output_type": "stream",
     "text": [
      "Active grids: ['regular']\n"
     ]
    }
   ],
   "source": [
    "extent = (-5., 1005., -5., 1005., -1005., 5.)\n",
    "shape = (101, 101, 101)\n",
    "\n",
    "geo_model = gp.create_model('Gempy-tutorial')\n",
    "geo_model = gp.init_data(geo_model, extent=extent, resolution=shape)"
   ]
  },
  {
   "cell_type": "code",
   "execution_count": 4,
   "id": "cf628250-e6ac-4bf2-9c55-c1414ed4a750",
   "metadata": {},
   "outputs": [
    {
     "name": "stdout",
     "output_type": "stream",
     "text": [
      "Setting kriging parameters to their default values.\n",
      "Compiling theano function...\n",
      "Level of Optimization:  fast_compile\n",
      "Device:  cpu\n",
      "Precision:  float64\n",
      "Number of faults:  0\n",
      "Compilation Done!\n",
      "Kriging values: \n",
      "                        values\n",
      "range             1749.371316\n",
      "$C_o$            72864.285714\n",
      "drift equations           [3]\n"
     ]
    },
    {
     "data": {
      "text/plain": [
       "<gempy.core.interpolator.InterpolatorModel at 0x7f6288a6bd60>"
      ]
     },
     "execution_count": 4,
     "metadata": {},
     "output_type": "execute_result"
    }
   ],
   "source": [
    "gp.set_interpolator(geo_model, output=['geology'], theano_optimizer='fast_compile')"
   ]
  },
  {
   "cell_type": "code",
   "execution_count": 5,
   "id": "44a4e8db-f824-4fec-b611-c81f3f5d3fe7",
   "metadata": {},
   "outputs": [],
   "source": [
    "geo_model.rename_series({'Default series': 'Lower'})"
   ]
  },
  {
   "cell_type": "code",
   "execution_count": 6,
   "id": "463cf17e-ecf0-4305-8a5a-4a0a45e143b7",
   "metadata": {},
   "outputs": [
    {
     "data": {
      "text/html": [
       "<style type=\"text/css\">\n",
       "#T_22380_row0_col3 {\n",
       "  background-color: #015482;\n",
       "}\n",
       "#T_22380_row1_col3 {\n",
       "  background-color: #9f0052;\n",
       "}\n",
       "#T_22380_row2_col3 {\n",
       "  background-color: #ffbe00;\n",
       "}\n",
       "</style>\n",
       "<table id=\"T_22380_\">\n",
       "  <thead>\n",
       "    <tr>\n",
       "      <th class=\"blank level0\" >&nbsp;</th>\n",
       "      <th class=\"col_heading level0 col0\" >surface</th>\n",
       "      <th class=\"col_heading level0 col1\" >series</th>\n",
       "      <th class=\"col_heading level0 col2\" >order_surfaces</th>\n",
       "      <th class=\"col_heading level0 col3\" >color</th>\n",
       "      <th class=\"col_heading level0 col4\" >id</th>\n",
       "    </tr>\n",
       "  </thead>\n",
       "  <tbody>\n",
       "    <tr>\n",
       "      <th id=\"T_22380_level0_row0\" class=\"row_heading level0 row0\" >0</th>\n",
       "      <td id=\"T_22380_row0_col0\" class=\"data row0 col0\" >co2</td>\n",
       "      <td id=\"T_22380_row0_col1\" class=\"data row0 col1\" >Lower</td>\n",
       "      <td id=\"T_22380_row0_col2\" class=\"data row0 col2\" >1</td>\n",
       "      <td id=\"T_22380_row0_col3\" class=\"data row0 col3\" >#015482</td>\n",
       "      <td id=\"T_22380_row0_col4\" class=\"data row0 col4\" >1</td>\n",
       "    </tr>\n",
       "    <tr>\n",
       "      <th id=\"T_22380_level0_row1\" class=\"row_heading level0 row1\" >1</th>\n",
       "      <td id=\"T_22380_row1_col0\" class=\"data row1 col0\" >sands</td>\n",
       "      <td id=\"T_22380_row1_col1\" class=\"data row1 col1\" >Lower</td>\n",
       "      <td id=\"T_22380_row1_col2\" class=\"data row1 col2\" >2</td>\n",
       "      <td id=\"T_22380_row1_col3\" class=\"data row1 col3\" >#9f0052</td>\n",
       "      <td id=\"T_22380_row1_col4\" class=\"data row1 col4\" >2</td>\n",
       "    </tr>\n",
       "    <tr>\n",
       "      <th id=\"T_22380_level0_row2\" class=\"row_heading level0 row2\" >2</th>\n",
       "      <td id=\"T_22380_row2_col0\" class=\"data row2 col0\" >lowershale</td>\n",
       "      <td id=\"T_22380_row2_col1\" class=\"data row2 col1\" >Lower</td>\n",
       "      <td id=\"T_22380_row2_col2\" class=\"data row2 col2\" >3</td>\n",
       "      <td id=\"T_22380_row2_col3\" class=\"data row2 col3\" >#ffbe00</td>\n",
       "      <td id=\"T_22380_row2_col4\" class=\"data row2 col4\" >3</td>\n",
       "    </tr>\n",
       "  </tbody>\n",
       "</table>\n"
      ],
      "text/plain": [
       "      surface series  order_surfaces    color  id\n",
       "0         co2  Lower               1  #015482   1\n",
       "1       sands  Lower               2  #9f0052   2\n",
       "2  lowershale  Lower               3  #ffbe00   3"
      ]
     },
     "execution_count": 6,
     "metadata": {},
     "output_type": "execute_result"
    }
   ],
   "source": [
    "geo_model.add_surfaces(['co2', 'sands', 'lowershale'])"
   ]
  },
  {
   "cell_type": "code",
   "execution_count": 7,
   "id": "49ea35e8-15fe-4d60-938c-f39d6de74a9c",
   "metadata": {},
   "outputs": [
    {
     "data": {
      "text/html": [
       "<table border=\"1\" class=\"dataframe\">\n",
       "  <thead>\n",
       "    <tr style=\"text-align: right;\">\n",
       "      <th></th>\n",
       "      <th>X</th>\n",
       "      <th>Y</th>\n",
       "      <th>Z</th>\n",
       "      <th>G_x</th>\n",
       "      <th>G_y</th>\n",
       "      <th>G_z</th>\n",
       "      <th>smooth</th>\n",
       "      <th>surface</th>\n",
       "    </tr>\n",
       "  </thead>\n",
       "  <tbody>\n",
       "    <tr>\n",
       "      <th>0</th>\n",
       "      <td>442.0</td>\n",
       "      <td>495.0</td>\n",
       "      <td>-752.0</td>\n",
       "      <td>0.05</td>\n",
       "      <td>0.05</td>\n",
       "      <td>0.95</td>\n",
       "      <td>0.01</td>\n",
       "      <td>sands</td>\n",
       "    </tr>\n",
       "  </tbody>\n",
       "</table>"
      ],
      "text/plain": [
       "       X      Y      Z   G_x   G_y   G_z  smooth surface\n",
       "0  442.0  495.0 -752.0  0.05  0.05  0.95    0.01   sands"
      ]
     },
     "execution_count": 7,
     "metadata": {},
     "output_type": "execute_result"
    }
   ],
   "source": [
    "def create_surface(model, points, surface):\n",
    "    \"\"\"Add a list of points to a surface in a model\"\"\"\n",
    "    xyz = ('X', 'Y', 'Z')\n",
    "    for point in points:\n",
    "        kwargs = {**dict(zip(xyz, point)), 'surface': surface}\n",
    "        model.add_surface_points(**kwargs)\n",
    "\n",
    "# The points defining the base of the sand layer\n",
    "sand_points = [(322, 135, -783), (635, 702, -791), (221, 668, -772), (732, 235, -801), (442, 454, -702)]\n",
    "\n",
    "# Call our function\n",
    "create_surface(geo_model, sand_points, 'sands')\n",
    "\n",
    "# Add the surface orientation\n",
    "geo_model.add_orientations(X=442., Y=495., Z=-752.,\n",
    "                           surface='sands', pole_vector=(0.05, 0.05, 0.95))"
   ]
  },
  {
   "cell_type": "code",
   "execution_count": 8,
   "id": "0267c2a2-3dd5-4f57-aa62-3e1416a92547",
   "metadata": {},
   "outputs": [
    {
     "data": {
      "text/html": [
       "<table border=\"1\" class=\"dataframe\">\n",
       "  <thead>\n",
       "    <tr style=\"text-align: right;\">\n",
       "      <th></th>\n",
       "      <th>X</th>\n",
       "      <th>Y</th>\n",
       "      <th>Z</th>\n",
       "      <th>G_x</th>\n",
       "      <th>G_y</th>\n",
       "      <th>G_z</th>\n",
       "      <th>smooth</th>\n",
       "      <th>surface</th>\n",
       "    </tr>\n",
       "  </thead>\n",
       "  <tbody>\n",
       "    <tr>\n",
       "      <th>1</th>\n",
       "      <td>495.0</td>\n",
       "      <td>495.0</td>\n",
       "      <td>-650.0</td>\n",
       "      <td>0.00</td>\n",
       "      <td>0.00</td>\n",
       "      <td>1.00</td>\n",
       "      <td>0.01</td>\n",
       "      <td>co2</td>\n",
       "    </tr>\n",
       "    <tr>\n",
       "      <th>0</th>\n",
       "      <td>442.0</td>\n",
       "      <td>495.0</td>\n",
       "      <td>-752.0</td>\n",
       "      <td>0.05</td>\n",
       "      <td>0.05</td>\n",
       "      <td>0.95</td>\n",
       "      <td>0.01</td>\n",
       "      <td>sands</td>\n",
       "    </tr>\n",
       "  </tbody>\n",
       "</table>"
      ],
      "text/plain": [
       "       X      Y      Z   G_x   G_y   G_z  smooth surface\n",
       "1  495.0  495.0 -650.0  0.00  0.00  1.00    0.01     co2\n",
       "0  442.0  495.0 -752.0  0.05  0.05  0.95    0.01   sands"
      ]
     },
     "execution_count": 8,
     "metadata": {},
     "output_type": "execute_result"
    }
   ],
   "source": [
    "# Points defining the base of the CO2 layer\n",
    "co2_points = [(322, 135, -650), (635, 702, -650), (221, 668, -650), (732, 235, -650), (442, 454, -650)]\n",
    "\n",
    "create_surface(geo_model, co2_points, 'co2')\n",
    "\n",
    "# Add the surface orientation\n",
    "geo_model.add_orientations(X=495., Y=495., Z=-650.,\n",
    "                           surface='co2', pole_vector=(0., 0., 1.))"
   ]
  },
  {
   "cell_type": "code",
   "execution_count": 9,
   "id": "5508b6c7-1cf6-4594-93ee-5899e9afcbd7",
   "metadata": {},
   "outputs": [
    {
     "data": {
      "text/html": [
       "<table border=\"1\" class=\"dataframe\">\n",
       "  <thead>\n",
       "    <tr style=\"text-align: right;\">\n",
       "      <th></th>\n",
       "      <th>order_series</th>\n",
       "      <th>BottomRelation</th>\n",
       "      <th>isActive</th>\n",
       "      <th>isFault</th>\n",
       "      <th>isFinite</th>\n",
       "    </tr>\n",
       "  </thead>\n",
       "  <tbody>\n",
       "    <tr>\n",
       "      <th>Lower</th>\n",
       "      <td>1</td>\n",
       "      <td>Erosion</td>\n",
       "      <td>True</td>\n",
       "      <td>False</td>\n",
       "      <td>False</td>\n",
       "    </tr>\n",
       "    <tr>\n",
       "      <th>Upper</th>\n",
       "      <td>2</td>\n",
       "      <td>Erosion</td>\n",
       "      <td>False</td>\n",
       "      <td>False</td>\n",
       "      <td>False</td>\n",
       "    </tr>\n",
       "  </tbody>\n",
       "</table>"
      ],
      "text/plain": [
       "       order_series BottomRelation  isActive  isFault  isFinite\n",
       "Lower             1        Erosion      True    False     False\n",
       "Upper             2        Erosion     False    False     False"
      ]
     },
     "execution_count": 9,
     "metadata": {},
     "output_type": "execute_result"
    }
   ],
   "source": [
    "geo_model.add_series('Upper')"
   ]
  },
  {
   "cell_type": "code",
   "execution_count": 10,
   "id": "c2d326e5-2292-4794-af89-1b6919cec245",
   "metadata": {},
   "outputs": [
    {
     "data": {
      "text/html": [
       "<table border=\"1\" class=\"dataframe\">\n",
       "  <thead>\n",
       "    <tr style=\"text-align: right;\">\n",
       "      <th></th>\n",
       "      <th>order_series</th>\n",
       "      <th>BottomRelation</th>\n",
       "      <th>isActive</th>\n",
       "      <th>isFault</th>\n",
       "      <th>isFinite</th>\n",
       "    </tr>\n",
       "  </thead>\n",
       "  <tbody>\n",
       "    <tr>\n",
       "      <th>Upper</th>\n",
       "      <td>1</td>\n",
       "      <td>Erosion</td>\n",
       "      <td>False</td>\n",
       "      <td>False</td>\n",
       "      <td>False</td>\n",
       "    </tr>\n",
       "    <tr>\n",
       "      <th>Lower</th>\n",
       "      <td>2</td>\n",
       "      <td>Erosion</td>\n",
       "      <td>True</td>\n",
       "      <td>False</td>\n",
       "      <td>False</td>\n",
       "    </tr>\n",
       "  </tbody>\n",
       "</table>"
      ],
      "text/plain": [
       "       order_series BottomRelation  isActive  isFault  isFinite\n",
       "Upper             1        Erosion     False    False     False\n",
       "Lower             2        Erosion      True    False     False"
      ]
     },
     "execution_count": 10,
     "metadata": {},
     "output_type": "execute_result"
    }
   ],
   "source": [
    "geo_model.reorder_series(['Upper', 'Lower'])"
   ]
  },
  {
   "cell_type": "code",
   "execution_count": 11,
   "id": "d2e69677-386f-4809-8fce-4e9c932a4b0f",
   "metadata": {},
   "outputs": [
    {
     "data": {
      "text/html": [
       "<style type=\"text/css\">\n",
       "#T_2b62c_row0_col3 {\n",
       "  background-color: #015482;\n",
       "}\n",
       "#T_2b62c_row1_col3 {\n",
       "  background-color: #9f0052;\n",
       "}\n",
       "#T_2b62c_row2_col3 {\n",
       "  background-color: #ffbe00;\n",
       "}\n",
       "#T_2b62c_row3_col3 {\n",
       "  background-color: #728f02;\n",
       "}\n",
       "#T_2b62c_row4_col3 {\n",
       "  background-color: #443988;\n",
       "}\n",
       "#T_2b62c_row5_col3 {\n",
       "  background-color: #ff3f20;\n",
       "}\n",
       "</style>\n",
       "<table id=\"T_2b62c_\">\n",
       "  <thead>\n",
       "    <tr>\n",
       "      <th class=\"blank level0\" >&nbsp;</th>\n",
       "      <th class=\"col_heading level0 col0\" >surface</th>\n",
       "      <th class=\"col_heading level0 col1\" >series</th>\n",
       "      <th class=\"col_heading level0 col2\" >order_surfaces</th>\n",
       "      <th class=\"col_heading level0 col3\" >color</th>\n",
       "      <th class=\"col_heading level0 col4\" >id</th>\n",
       "    </tr>\n",
       "  </thead>\n",
       "  <tbody>\n",
       "    <tr>\n",
       "      <th id=\"T_2b62c_level0_row0\" class=\"row_heading level0 row0\" >0</th>\n",
       "      <td id=\"T_2b62c_row0_col0\" class=\"data row0 col0\" >co2</td>\n",
       "      <td id=\"T_2b62c_row0_col1\" class=\"data row0 col1\" >Lower</td>\n",
       "      <td id=\"T_2b62c_row0_col2\" class=\"data row0 col2\" >1</td>\n",
       "      <td id=\"T_2b62c_row0_col3\" class=\"data row0 col3\" >#015482</td>\n",
       "      <td id=\"T_2b62c_row0_col4\" class=\"data row0 col4\" >1</td>\n",
       "    </tr>\n",
       "    <tr>\n",
       "      <th id=\"T_2b62c_level0_row1\" class=\"row_heading level0 row1\" >1</th>\n",
       "      <td id=\"T_2b62c_row1_col0\" class=\"data row1 col0\" >sands</td>\n",
       "      <td id=\"T_2b62c_row1_col1\" class=\"data row1 col1\" >Lower</td>\n",
       "      <td id=\"T_2b62c_row1_col2\" class=\"data row1 col2\" >2</td>\n",
       "      <td id=\"T_2b62c_row1_col3\" class=\"data row1 col3\" >#9f0052</td>\n",
       "      <td id=\"T_2b62c_row1_col4\" class=\"data row1 col4\" >2</td>\n",
       "    </tr>\n",
       "    <tr>\n",
       "      <th id=\"T_2b62c_level0_row2\" class=\"row_heading level0 row2\" >2</th>\n",
       "      <td id=\"T_2b62c_row2_col0\" class=\"data row2 col0\" >lowershale</td>\n",
       "      <td id=\"T_2b62c_row2_col1\" class=\"data row2 col1\" >Lower</td>\n",
       "      <td id=\"T_2b62c_row2_col2\" class=\"data row2 col2\" >3</td>\n",
       "      <td id=\"T_2b62c_row2_col3\" class=\"data row2 col3\" >#ffbe00</td>\n",
       "      <td id=\"T_2b62c_row2_col4\" class=\"data row2 col4\" >3</td>\n",
       "    </tr>\n",
       "    <tr>\n",
       "      <th id=\"T_2b62c_level0_row3\" class=\"row_heading level0 row3\" >3</th>\n",
       "      <td id=\"T_2b62c_row3_col0\" class=\"data row3 col0\" >water</td>\n",
       "      <td id=\"T_2b62c_row3_col1\" class=\"data row3 col1\" >Lower</td>\n",
       "      <td id=\"T_2b62c_row3_col2\" class=\"data row3 col2\" >4</td>\n",
       "      <td id=\"T_2b62c_row3_col3\" class=\"data row3 col3\" >#728f02</td>\n",
       "      <td id=\"T_2b62c_row3_col4\" class=\"data row3 col4\" >4</td>\n",
       "    </tr>\n",
       "    <tr>\n",
       "      <th id=\"T_2b62c_level0_row4\" class=\"row_heading level0 row4\" >4</th>\n",
       "      <td id=\"T_2b62c_row4_col0\" class=\"data row4 col0\" >sediments</td>\n",
       "      <td id=\"T_2b62c_row4_col1\" class=\"data row4 col1\" >Lower</td>\n",
       "      <td id=\"T_2b62c_row4_col2\" class=\"data row4 col2\" >5</td>\n",
       "      <td id=\"T_2b62c_row4_col3\" class=\"data row4 col3\" >#443988</td>\n",
       "      <td id=\"T_2b62c_row4_col4\" class=\"data row4 col4\" >5</td>\n",
       "    </tr>\n",
       "    <tr>\n",
       "      <th id=\"T_2b62c_level0_row5\" class=\"row_heading level0 row5\" >5</th>\n",
       "      <td id=\"T_2b62c_row5_col0\" class=\"data row5 col0\" >uppershale</td>\n",
       "      <td id=\"T_2b62c_row5_col1\" class=\"data row5 col1\" >Lower</td>\n",
       "      <td id=\"T_2b62c_row5_col2\" class=\"data row5 col2\" >6</td>\n",
       "      <td id=\"T_2b62c_row5_col3\" class=\"data row5 col3\" >#ff3f20</td>\n",
       "      <td id=\"T_2b62c_row5_col4\" class=\"data row5 col4\" >6</td>\n",
       "    </tr>\n",
       "  </tbody>\n",
       "</table>\n"
      ],
      "text/plain": [
       "      surface series  order_surfaces    color  id\n",
       "0         co2  Lower               1  #015482   1\n",
       "1       sands  Lower               2  #9f0052   2\n",
       "2  lowershale  Lower               3  #ffbe00   3\n",
       "3       water  Lower               4  #728f02   4\n",
       "4   sediments  Lower               5  #443988   5\n",
       "5  uppershale  Lower               6  #ff3f20   6"
      ]
     },
     "execution_count": 11,
     "metadata": {},
     "output_type": "execute_result"
    }
   ],
   "source": [
    "geo_model.add_surfaces(['water', 'sediments', 'uppershale'])"
   ]
  },
  {
   "cell_type": "code",
   "execution_count": 12,
   "id": "c6177600-9b64-416d-b038-4f0b43e833a1",
   "metadata": {},
   "outputs": [
    {
     "data": {
      "text/html": [
       "<style type=\"text/css\">\n",
       "#T_008ce_row0_col3 {\n",
       "  background-color: #728f02;\n",
       "}\n",
       "#T_008ce_row1_col3 {\n",
       "  background-color: #443988;\n",
       "}\n",
       "#T_008ce_row2_col3 {\n",
       "  background-color: #ff3f20;\n",
       "}\n",
       "#T_008ce_row3_col3 {\n",
       "  background-color: #015482;\n",
       "}\n",
       "#T_008ce_row4_col3 {\n",
       "  background-color: #9f0052;\n",
       "}\n",
       "#T_008ce_row5_col3 {\n",
       "  background-color: #ffbe00;\n",
       "}\n",
       "</style>\n",
       "<table id=\"T_008ce_\">\n",
       "  <thead>\n",
       "    <tr>\n",
       "      <th class=\"blank level0\" >&nbsp;</th>\n",
       "      <th class=\"col_heading level0 col0\" >surface</th>\n",
       "      <th class=\"col_heading level0 col1\" >series</th>\n",
       "      <th class=\"col_heading level0 col2\" >order_surfaces</th>\n",
       "      <th class=\"col_heading level0 col3\" >color</th>\n",
       "      <th class=\"col_heading level0 col4\" >id</th>\n",
       "    </tr>\n",
       "  </thead>\n",
       "  <tbody>\n",
       "    <tr>\n",
       "      <th id=\"T_008ce_level0_row0\" class=\"row_heading level0 row0\" >3</th>\n",
       "      <td id=\"T_008ce_row0_col0\" class=\"data row0 col0\" >water</td>\n",
       "      <td id=\"T_008ce_row0_col1\" class=\"data row0 col1\" >Upper</td>\n",
       "      <td id=\"T_008ce_row0_col2\" class=\"data row0 col2\" >1</td>\n",
       "      <td id=\"T_008ce_row0_col3\" class=\"data row0 col3\" >#728f02</td>\n",
       "      <td id=\"T_008ce_row0_col4\" class=\"data row0 col4\" >1</td>\n",
       "    </tr>\n",
       "    <tr>\n",
       "      <th id=\"T_008ce_level0_row1\" class=\"row_heading level0 row1\" >4</th>\n",
       "      <td id=\"T_008ce_row1_col0\" class=\"data row1 col0\" >sediments</td>\n",
       "      <td id=\"T_008ce_row1_col1\" class=\"data row1 col1\" >Upper</td>\n",
       "      <td id=\"T_008ce_row1_col2\" class=\"data row1 col2\" >2</td>\n",
       "      <td id=\"T_008ce_row1_col3\" class=\"data row1 col3\" >#443988</td>\n",
       "      <td id=\"T_008ce_row1_col4\" class=\"data row1 col4\" >2</td>\n",
       "    </tr>\n",
       "    <tr>\n",
       "      <th id=\"T_008ce_level0_row2\" class=\"row_heading level0 row2\" >5</th>\n",
       "      <td id=\"T_008ce_row2_col0\" class=\"data row2 col0\" >uppershale</td>\n",
       "      <td id=\"T_008ce_row2_col1\" class=\"data row2 col1\" >Upper</td>\n",
       "      <td id=\"T_008ce_row2_col2\" class=\"data row2 col2\" >3</td>\n",
       "      <td id=\"T_008ce_row2_col3\" class=\"data row2 col3\" >#ff3f20</td>\n",
       "      <td id=\"T_008ce_row2_col4\" class=\"data row2 col4\" >3</td>\n",
       "    </tr>\n",
       "    <tr>\n",
       "      <th id=\"T_008ce_level0_row3\" class=\"row_heading level0 row3\" >0</th>\n",
       "      <td id=\"T_008ce_row3_col0\" class=\"data row3 col0\" >co2</td>\n",
       "      <td id=\"T_008ce_row3_col1\" class=\"data row3 col1\" >Lower</td>\n",
       "      <td id=\"T_008ce_row3_col2\" class=\"data row3 col2\" >1</td>\n",
       "      <td id=\"T_008ce_row3_col3\" class=\"data row3 col3\" >#015482</td>\n",
       "      <td id=\"T_008ce_row3_col4\" class=\"data row3 col4\" >4</td>\n",
       "    </tr>\n",
       "    <tr>\n",
       "      <th id=\"T_008ce_level0_row4\" class=\"row_heading level0 row4\" >1</th>\n",
       "      <td id=\"T_008ce_row4_col0\" class=\"data row4 col0\" >sands</td>\n",
       "      <td id=\"T_008ce_row4_col1\" class=\"data row4 col1\" >Lower</td>\n",
       "      <td id=\"T_008ce_row4_col2\" class=\"data row4 col2\" >2</td>\n",
       "      <td id=\"T_008ce_row4_col3\" class=\"data row4 col3\" >#9f0052</td>\n",
       "      <td id=\"T_008ce_row4_col4\" class=\"data row4 col4\" >5</td>\n",
       "    </tr>\n",
       "    <tr>\n",
       "      <th id=\"T_008ce_level0_row5\" class=\"row_heading level0 row5\" >2</th>\n",
       "      <td id=\"T_008ce_row5_col0\" class=\"data row5 col0\" >lowershale</td>\n",
       "      <td id=\"T_008ce_row5_col1\" class=\"data row5 col1\" >Lower</td>\n",
       "      <td id=\"T_008ce_row5_col2\" class=\"data row5 col2\" >3</td>\n",
       "      <td id=\"T_008ce_row5_col3\" class=\"data row5 col3\" >#ffbe00</td>\n",
       "      <td id=\"T_008ce_row5_col4\" class=\"data row5 col4\" >6</td>\n",
       "    </tr>\n",
       "  </tbody>\n",
       "</table>\n"
      ],
      "text/plain": [
       "      surface series  order_surfaces    color  id\n",
       "3       water  Upper               1  #728f02   1\n",
       "4   sediments  Upper               2  #443988   2\n",
       "5  uppershale  Upper               3  #ff3f20   3\n",
       "0         co2  Lower               1  #015482   4\n",
       "1       sands  Lower               2  #9f0052   5\n",
       "2  lowershale  Lower               3  #ffbe00   6"
      ]
     },
     "execution_count": 12,
     "metadata": {},
     "output_type": "execute_result"
    }
   ],
   "source": [
    "gp.map_stack_to_surfaces(geo_model, {'Upper': ('water', 'sediments', 'uppershale')})"
   ]
  },
  {
   "cell_type": "code",
   "execution_count": 13,
   "id": "c2d67c35-4627-4eba-b4f3-d26041e13d1d",
   "metadata": {},
   "outputs": [
    {
     "data": {
      "text/html": [
       "<table border=\"1\" class=\"dataframe\">\n",
       "  <thead>\n",
       "    <tr style=\"text-align: right;\">\n",
       "      <th></th>\n",
       "      <th>X</th>\n",
       "      <th>Y</th>\n",
       "      <th>Z</th>\n",
       "      <th>G_x</th>\n",
       "      <th>G_y</th>\n",
       "      <th>G_z</th>\n",
       "      <th>smooth</th>\n",
       "      <th>surface</th>\n",
       "    </tr>\n",
       "  </thead>\n",
       "  <tbody>\n",
       "    <tr>\n",
       "      <th>2</th>\n",
       "      <td>442.0</td>\n",
       "      <td>495.0</td>\n",
       "      <td>-502.0</td>\n",
       "      <td>0.05</td>\n",
       "      <td>0.05</td>\n",
       "      <td>0.95</td>\n",
       "      <td>0.01</td>\n",
       "      <td>uppershale</td>\n",
       "    </tr>\n",
       "    <tr>\n",
       "      <th>1</th>\n",
       "      <td>495.0</td>\n",
       "      <td>495.0</td>\n",
       "      <td>-650.0</td>\n",
       "      <td>0.00</td>\n",
       "      <td>0.00</td>\n",
       "      <td>1.00</td>\n",
       "      <td>0.01</td>\n",
       "      <td>co2</td>\n",
       "    </tr>\n",
       "    <tr>\n",
       "      <th>0</th>\n",
       "      <td>442.0</td>\n",
       "      <td>495.0</td>\n",
       "      <td>-752.0</td>\n",
       "      <td>0.05</td>\n",
       "      <td>0.05</td>\n",
       "      <td>0.95</td>\n",
       "      <td>0.01</td>\n",
       "      <td>sands</td>\n",
       "    </tr>\n",
       "  </tbody>\n",
       "</table>"
      ],
      "text/plain": [
       "       X      Y      Z   G_x   G_y   G_z  smooth     surface\n",
       "2  442.0  495.0 -502.0  0.05  0.05  0.95    0.01  uppershale\n",
       "1  495.0  495.0 -650.0  0.00  0.00  1.00    0.01         co2\n",
       "0  442.0  495.0 -752.0  0.05  0.05  0.95    0.01       sands"
      ]
     },
     "execution_count": 13,
     "metadata": {},
     "output_type": "execute_result"
    }
   ],
   "source": [
    "uppershale_points = [(322, 135, -633), (635, 702, -641), (221, 668, -622), (732, 235, -651), (442, 454, -552)]\n",
    "sediments_points = [(322, 135, -433), (635, 702, -441), (221, 668, -422), (732, 235, -451), (442, 454, -352)]\n",
    "water_points = [(232, 153, -221), (653, 234, -216), (112, 872, -198), (532, 572, -223),\n",
    "                (722, 884, -189), (632, 429, -201), (732, 348, -222)]\n",
    "\n",
    "# Add the points to our surfaces\n",
    "create_surface(geo_model, uppershale_points, 'uppershale')\n",
    "create_surface(geo_model, sediments_points, 'sediments')\n",
    "create_surface(geo_model, water_points, 'water')\n",
    "\n",
    "# Set an orientation\n",
    "geo_model.add_orientations(X=442., Y=495., Z=-502.,\n",
    "                           surface='uppershale', pole_vector=(0.05, 0.05, 0.95))"
   ]
  },
  {
   "cell_type": "code",
   "execution_count": 14,
   "id": "0d8f31a9-939b-4358-bebe-cc152ab93a9c",
   "metadata": {},
   "outputs": [
    {
     "data": {
      "text/html": [
       "<style type=\"text/css\">\n",
       "#T_c1f6f_row0_col3 {\n",
       "  background-color: #728f02;\n",
       "}\n",
       "#T_c1f6f_row1_col3 {\n",
       "  background-color: #443988;\n",
       "}\n",
       "#T_c1f6f_row2_col3 {\n",
       "  background-color: #ff3f20;\n",
       "}\n",
       "#T_c1f6f_row3_col3 {\n",
       "  background-color: #015482;\n",
       "}\n",
       "#T_c1f6f_row4_col3 {\n",
       "  background-color: #9f0052;\n",
       "}\n",
       "#T_c1f6f_row5_col3 {\n",
       "  background-color: #ffbe00;\n",
       "}\n",
       "</style>\n",
       "<table id=\"T_c1f6f_\">\n",
       "  <thead>\n",
       "    <tr>\n",
       "      <th class=\"blank level0\" >&nbsp;</th>\n",
       "      <th class=\"col_heading level0 col0\" >surface</th>\n",
       "      <th class=\"col_heading level0 col1\" >series</th>\n",
       "      <th class=\"col_heading level0 col2\" >order_surfaces</th>\n",
       "      <th class=\"col_heading level0 col3\" >color</th>\n",
       "      <th class=\"col_heading level0 col4\" >id</th>\n",
       "      <th class=\"col_heading level0 col5\" >vp</th>\n",
       "    </tr>\n",
       "  </thead>\n",
       "  <tbody>\n",
       "    <tr>\n",
       "      <th id=\"T_c1f6f_level0_row0\" class=\"row_heading level0 row0\" >3</th>\n",
       "      <td id=\"T_c1f6f_row0_col0\" class=\"data row0 col0\" >water</td>\n",
       "      <td id=\"T_c1f6f_row0_col1\" class=\"data row0 col1\" >Upper</td>\n",
       "      <td id=\"T_c1f6f_row0_col2\" class=\"data row0 col2\" >1</td>\n",
       "      <td id=\"T_c1f6f_row0_col3\" class=\"data row0 col3\" >#728f02</td>\n",
       "      <td id=\"T_c1f6f_row0_col4\" class=\"data row0 col4\" >1</td>\n",
       "      <td id=\"T_c1f6f_row0_col5\" class=\"data row0 col5\" >1.500000</td>\n",
       "    </tr>\n",
       "    <tr>\n",
       "      <th id=\"T_c1f6f_level0_row1\" class=\"row_heading level0 row1\" >4</th>\n",
       "      <td id=\"T_c1f6f_row1_col0\" class=\"data row1 col0\" >sediments</td>\n",
       "      <td id=\"T_c1f6f_row1_col1\" class=\"data row1 col1\" >Upper</td>\n",
       "      <td id=\"T_c1f6f_row1_col2\" class=\"data row1 col2\" >2</td>\n",
       "      <td id=\"T_c1f6f_row1_col3\" class=\"data row1 col3\" >#443988</td>\n",
       "      <td id=\"T_c1f6f_row1_col4\" class=\"data row1 col4\" >2</td>\n",
       "      <td id=\"T_c1f6f_row1_col5\" class=\"data row1 col5\" >1.750000</td>\n",
       "    </tr>\n",
       "    <tr>\n",
       "      <th id=\"T_c1f6f_level0_row2\" class=\"row_heading level0 row2\" >5</th>\n",
       "      <td id=\"T_c1f6f_row2_col0\" class=\"data row2 col0\" >uppershale</td>\n",
       "      <td id=\"T_c1f6f_row2_col1\" class=\"data row2 col1\" >Upper</td>\n",
       "      <td id=\"T_c1f6f_row2_col2\" class=\"data row2 col2\" >3</td>\n",
       "      <td id=\"T_c1f6f_row2_col3\" class=\"data row2 col3\" >#ff3f20</td>\n",
       "      <td id=\"T_c1f6f_row2_col4\" class=\"data row2 col4\" >3</td>\n",
       "      <td id=\"T_c1f6f_row2_col5\" class=\"data row2 col5\" >2.500000</td>\n",
       "    </tr>\n",
       "    <tr>\n",
       "      <th id=\"T_c1f6f_level0_row3\" class=\"row_heading level0 row3\" >0</th>\n",
       "      <td id=\"T_c1f6f_row3_col0\" class=\"data row3 col0\" >co2</td>\n",
       "      <td id=\"T_c1f6f_row3_col1\" class=\"data row3 col1\" >Lower</td>\n",
       "      <td id=\"T_c1f6f_row3_col2\" class=\"data row3 col2\" >1</td>\n",
       "      <td id=\"T_c1f6f_row3_col3\" class=\"data row3 col3\" >#015482</td>\n",
       "      <td id=\"T_c1f6f_row3_col4\" class=\"data row3 col4\" >4</td>\n",
       "      <td id=\"T_c1f6f_row3_col5\" class=\"data row3 col5\" >1.100000</td>\n",
       "    </tr>\n",
       "    <tr>\n",
       "      <th id=\"T_c1f6f_level0_row4\" class=\"row_heading level0 row4\" >1</th>\n",
       "      <td id=\"T_c1f6f_row4_col0\" class=\"data row4 col0\" >sands</td>\n",
       "      <td id=\"T_c1f6f_row4_col1\" class=\"data row4 col1\" >Lower</td>\n",
       "      <td id=\"T_c1f6f_row4_col2\" class=\"data row4 col2\" >2</td>\n",
       "      <td id=\"T_c1f6f_row4_col3\" class=\"data row4 col3\" >#9f0052</td>\n",
       "      <td id=\"T_c1f6f_row4_col4\" class=\"data row4 col4\" >5</td>\n",
       "      <td id=\"T_c1f6f_row4_col5\" class=\"data row4 col5\" >2.000000</td>\n",
       "    </tr>\n",
       "    <tr>\n",
       "      <th id=\"T_c1f6f_level0_row5\" class=\"row_heading level0 row5\" >2</th>\n",
       "      <td id=\"T_c1f6f_row5_col0\" class=\"data row5 col0\" >lowershale</td>\n",
       "      <td id=\"T_c1f6f_row5_col1\" class=\"data row5 col1\" >Lower</td>\n",
       "      <td id=\"T_c1f6f_row5_col2\" class=\"data row5 col2\" >3</td>\n",
       "      <td id=\"T_c1f6f_row5_col3\" class=\"data row5 col3\" >#ffbe00</td>\n",
       "      <td id=\"T_c1f6f_row5_col4\" class=\"data row5 col4\" >6</td>\n",
       "      <td id=\"T_c1f6f_row5_col5\" class=\"data row5 col5\" >2.500000</td>\n",
       "    </tr>\n",
       "  </tbody>\n",
       "</table>\n"
      ],
      "text/plain": [
       "      surface series  order_surfaces    color  id    vp\n",
       "3       water  Upper               1  #728f02   1  1.50\n",
       "4   sediments  Upper               2  #443988   2  1.75\n",
       "5  uppershale  Upper               3  #ff3f20   3  2.50\n",
       "0         co2  Lower               1  #015482   4  1.10\n",
       "1       sands  Lower               2  #9f0052   5  2.00\n",
       "2  lowershale  Lower               3  #ffbe00   6  2.50"
      ]
     },
     "execution_count": 14,
     "metadata": {},
     "output_type": "execute_result"
    }
   ],
   "source": [
    "geo_model.add_surface_values([1.5, 1.75, 2.5, 1.1, 2., 2.5], ['vp'])\n",
    "geo_model.surfaces"
   ]
  },
  {
   "cell_type": "code",
   "execution_count": 15,
   "id": "213306f3-0954-4647-bf29-644f72a09df5",
   "metadata": {},
   "outputs": [],
   "source": [
    "sol = gp.compute_model(geo_model)"
   ]
  },
  {
   "cell_type": "code",
   "execution_count": 16,
   "id": "05127fb4-8f34-42d9-876e-2ac254aa90b1",
   "metadata": {},
   "outputs": [
    {
     "name": "stderr",
     "output_type": "stream",
     "text": [
      "/home/manuel/anaconda3/lib/python3.9/site-packages/pyvista/plotting/tools.py:571: PyvistaDeprecationWarning: The usage of `parse_color` is deprecated in favor of the new `Color` class.\n",
      "  warnings.warn(\n"
     ]
    },
    {
     "data": {
      "text/plain": [
       "[StructuredGrid (0x7f626ac82640)\n",
       "   N Cells:\t1000000\n",
       "   N Points:\t1030301\n",
       "   X Bounds:\t0.000e+00, 1.000e+03\n",
       "   Y Bounds:\t0.000e+00, 1.000e+03\n",
       "   Z Bounds:\t-1.000e+03, 0.000e+00\n",
       "   Dimensions:\t101, 101, 101\n",
       "   N Arrays:\t1,\n",
       " <matplotlib.colors.ListedColormap at 0x7f628dfc4220>]"
      ]
     },
     "execution_count": 16,
     "metadata": {},
     "output_type": "execute_result"
    }
   ],
   "source": [
    "p3d = gp.plot_3d(geo_model, plotter_type='background', notebook=True)\n",
    "# Plot data points and orientations\n",
    "p3d.plot_data()\n",
    "\n",
    "# Plot the surfaces\n",
    "p3d.plot_surfaces()\n",
    "# Plot the lithological units\n",
    "p3d.plot_structured_grid('lith')"
   ]
  },
  {
   "cell_type": "code",
   "execution_count": 17,
   "id": "89b15687-5c28-48af-bb43-64a86b62c5ba",
   "metadata": {},
   "outputs": [
    {
     "data": {
      "text/plain": [
       "array([[2.5       , 2.44720385, 2.        , ..., 1.5       , 1.5       ,\n",
       "        1.5       ]])"
      ]
     },
     "execution_count": 17,
     "metadata": {},
     "output_type": "execute_result"
    }
   ],
   "source": [
    "sol.values_matrix"
   ]
  },
  {
   "cell_type": "code",
   "execution_count": 18,
   "id": "2a5f7657-c4b2-416f-a746-c0594154316a",
   "metadata": {},
   "outputs": [
    {
     "data": {
      "text/plain": [
       "(101, 101, 101)"
      ]
     },
     "execution_count": 18,
     "metadata": {},
     "output_type": "execute_result"
    }
   ],
   "source": [
    "reshaped = np.reshape(sol.values_matrix, shape, order='C')\n",
    "reshaped.shape"
   ]
  },
  {
   "cell_type": "code",
   "execution_count": 19,
   "id": "4b4fb8e0-e2c3-4cef-88ab-ab7857405885",
   "metadata": {},
   "outputs": [],
   "source": [
    "np.save(\"MODELO3D_FINAL_1\",reshaped)"
   ]
  },
  {
   "cell_type": "code",
   "execution_count": 20,
   "id": "2775181a-6bed-4011-8b5d-3c07c1ec0e1f",
   "metadata": {},
   "outputs": [
    {
     "data": {
      "image/png": "[encoded data removed]",
      "text/plain": [
       "<Figure size 432x288 with 2 Axes>"
      ]
     },
     "metadata": {
      "needs_background": "light"
     },
     "output_type": "display_data"
    }
   ],
   "source": [
    "import matplotlib.pyplot as plt\n",
    "\n",
    "# Take the center slice in the x direction\n",
    "# Remember that in Devito, indexing convention is [x, y, z] (need to flip for correct imshow display)\n",
    "plt.imshow(reshaped[50].T, cmap='viridis', origin='lower')\n",
    "plt.colorbar()\n",
    "plt.show()"
   ]
  },
  {
   "cell_type": "code",
   "execution_count": 21,
   "id": "135a7fd7-22b6-494e-a7fb-6a9c16f517fa",
   "metadata": {},
   "outputs": [],
   "source": [
    "import devito as dv\n",
    "from examples.seismic import Model"
   ]
  },
  {
   "cell_type": "code",
   "execution_count": 22,
   "id": "780a56ca-034a-4999-b15f-6215fc0266fb",
   "metadata": {},
   "outputs": [
    {
     "name": "stderr",
     "output_type": "stream",
     "text": [
      "Operator `initdamp` ran in 0.02 s\n",
      "Operator `pad_vp` ran in 0.01 s\n"
     ]
    }
   ],
   "source": [
    "seis_model = Model(vp=reshaped, origin=(0., 0., -1000.), spacing=(10., 10., 10.), shape=shape, nbl=30, space_order=4, bcs=\"damp\")"
   ]
  },
  {
   "cell_type": "code",
   "execution_count": 23,
   "id": "ce907ce1-7c7a-48d7-9c84-bd381acce5d6",
   "metadata": {},
   "outputs": [],
   "source": [
    "from examples.seismic import TimeAxis\n",
    "\n",
    "t0 = 0.  # Simulation starts a t=0\n",
    "tn = 1000.  # Simulation last 1 second (1000 ms)\n",
    "dt = seis_model.critical_dt  # Time step from model grid spacing\n",
    "\n",
    "time_range = TimeAxis(start=t0, stop=tn, step=dt)"
   ]
  },
  {
   "cell_type": "code",
   "execution_count": 1007,
   "id": "40c5962c-2e87-4478-90c9-536d7d144b6a",
   "metadata": {},
   "outputs": [
    {
     "data": {
      "image/png": "[encoded data removed]",
      "text/plain": [
       "<Figure size 576x432 with 1 Axes>"
      ]
     },
     "metadata": {
      "needs_background": "light"
     },
     "output_type": "display_data"
    },
    {
     "name": "stdout",
     "output_type": "stream",
     "text": [
      "[[500. 500. -20.]]\n"
     ]
    }
   ],
   "source": [
    "from examples.seismic import RickerSource\n",
    "\n",
    "f0 = 0.015  # Source peak frequency is 15Hz (0.015 kHz)\n",
    "src = RickerSource(name='src', grid=seis_model.grid, f0=f0,\n",
    "                   npoint=1, time_range=time_range)\n",
    "\n",
    "# First, position source centrally in all dimensions, then set depth\n",
    "\n",
    "src.coordinates.data[:,0] = 500\n",
    "src.coordinates.data[:,1] = 500\n",
    "src.coordinates.data[0, -1] = -20  # Depth is 20m\n",
    "src.show()\n",
    "print(src.coordinates.data)"
   ]
  },
  {
   "cell_type": "code",
   "execution_count": 1008,
   "id": "08d5bae7-07d4-4fd4-a37d-705de12eacf6",
   "metadata": {},
   "outputs": [
    {
     "data": {
      "text/plain": [
       "Data([[500., 500., -20.]], dtype=float32)"
      ]
     },
     "execution_count": 1008,
     "metadata": {},
     "output_type": "execute_result"
    }
   ],
   "source": [
    "src.coordinates.data"
   ]
  },
  {
   "cell_type": "code",
   "execution_count": 1009,
   "id": "ed77f370-f26a-4d35-bad5-a5badd2475c0",
   "metadata": {},
   "outputs": [],
   "source": [
    "from examples.seismic import Receiver\n",
    "\n",
    "# Create symbol for 101 receivers\n",
    "rec = Receiver(name='rec', grid=seis_model.grid, npoint=101, time_range=time_range)\n",
    "\n",
    "# Prescribe even spacing for receivers along the x-axis\n",
    "rec.coordinates.data[:, 0] = np.linspace(0, seis_model.domain_size[0], num=101)\n",
    "rec.coordinates.data[:, 1] = 0.5*seis_model.domain_size[1]\n",
    "rec.coordinates.data[:, -1] = -20.  # Depth is 20m"
   ]
  },
  {
   "cell_type": "code",
   "execution_count": 1010,
   "id": "a0e56d85-2081-4f56-b383-21338fdaf9f0",
   "metadata": {},
   "outputs": [
    {
     "data": {
      "text/latex": [
       "$\\displaystyle \\operatorname{damp}{\\left(x,y,z \\right)} \\frac{\\partial}{\\partial t} u{\\left(t,x,y,z \\right)} - \\frac{\\partial^{2}}{\\partial x^{2}} u{\\left(t,x,y,z \\right)} - \\frac{\\partial^{2}}{\\partial y^{2}} u{\\left(t,x,y,z \\right)} - \\frac{\\partial^{2}}{\\partial z^{2}} u{\\left(t,x,y,z \\right)} + \\frac{\\frac{\\partial^{2}}{\\partial t^{2}} u{\\left(t,x,y,z \\right)}}{\\operatorname{vp}^{2}{\\left(x,y,z \\right)}}$"
      ],
      "text/plain": [
       "damp(x, y, z)*Derivative(u(t, x, y, z), t) - Derivative(u(t, x, y, z), (x, 2)) - Derivative(u(t, x, y, z), (y, 2)) - Derivative(u(t, x, y, z), (z, 2)) + Derivative(u(t, x, y, z), (t, 2))/vp(x, y, z)**2"
      ]
     },
     "execution_count": 1010,
     "metadata": {},
     "output_type": "execute_result"
    }
   ],
   "source": [
    "u = dv.TimeFunction(name=\"u\", grid=seis_model.grid, time_order=2, space_order=4)\n",
    "\n",
    "# We can now write the PDE\n",
    "pde = seis_model.m * u.dt2 - u.laplace + seis_model.damp * u.dt\n",
    "\n",
    "# The PDE representation is as on paper\n",
    "pde"
   ]
  },
  {
   "cell_type": "code",
   "execution_count": 1011,
   "id": "a16d14a1-c37a-4823-ae81-b1c5096e9ca9",
   "metadata": {},
   "outputs": [
    {
     "data": {
      "text/latex": [
       "$\\displaystyle u{\\left(t + dt,x,y,z \\right)} = \\frac{- \\frac{- \\frac{2.0 u{\\left(t,x,y,z \\right)}}{dt^{2}} + \\frac{u{\\left(t - dt,x,y,z \\right)}}{dt^{2}}}{\\operatorname{vp}^{2}{\\left(x,y,z \\right)}} + \\frac{\\partial^{2}}{\\partial x^{2}} u{\\left(t,x,y,z \\right)} + \\frac{\\partial^{2}}{\\partial y^{2}} u{\\left(t,x,y,z \\right)} + \\frac{\\partial^{2}}{\\partial z^{2}} u{\\left(t,x,y,z \\right)} + \\frac{\\operatorname{damp}{\\left(x,y,z \\right)} u{\\left(t,x,y,z \\right)}}{dt}}{\\frac{\\operatorname{damp}{\\left(x,y,z \\right)}}{dt} + \\frac{1}{dt^{2} \\operatorname{vp}^{2}{\\left(x,y,z \\right)}}}$"
      ],
      "text/plain": [
       "Eq(u(t + dt, x, y, z), (-(-2.0*u(t, x, y, z)/dt**2 + u(t - dt, x, y, z)/dt**2)/vp(x, y, z)**2 + Derivative(u(t, x, y, z), (x, 2)) + Derivative(u(t, x, y, z), (y, 2)) + Derivative(u(t, x, y, z), (z, 2)) + damp(x, y, z)*u(t, x, y, z)/dt)/(damp(x, y, z)/dt + 1/(dt**2*vp(x, y, z)**2)))"
      ]
     },
     "execution_count": 1011,
     "metadata": {},
     "output_type": "execute_result"
    }
   ],
   "source": [
    "stencil = dv.Eq(u.forward, dv.solve(pde, u.forward))\n",
    "stencil"
   ]
  },
  {
   "cell_type": "code",
   "execution_count": 1012,
   "id": "e5398d24-a4d5-4445-845b-a220b6f27d53",
   "metadata": {},
   "outputs": [],
   "source": [
    "src_term = src.inject(field=u.forward, expr=src * dt**2 / seis_model.m)\n",
    "\n",
    "# Create interpolation expression for receivers\n",
    "rec_term = rec.interpolate(expr=u.forward)"
   ]
  },
  {
   "cell_type": "code",
   "execution_count": 1013,
   "id": "59415287-0476-477d-ac28-25f975a07de7",
   "metadata": {},
   "outputs": [],
   "source": [
    "op = dv.Operator([stencil] + src_term + rec_term, subs=seis_model.spacing_map)"
   ]
  },
  {
   "cell_type": "code",
   "execution_count": 1014,
   "id": "e19aefae-323d-4f38-bce2-bd02ba6534e3",
   "metadata": {},
   "outputs": [
    {
     "name": "stderr",
     "output_type": "stream",
     "text": [
      "Operator `Kernel` ran in 5.31 s\n"
     ]
    },
    {
     "data": {
      "text/plain": [
       "PerformanceSummary([(PerfKey(name='section0', rank=None),\n",
       "                     PerfEntry(time=5.290535999999995, gflopss=0.0, gpointss=0.0, oi=0.0, ops=0, itershapes=[])),\n",
       "                    (PerfKey(name='section1', rank=None),\n",
       "                     PerfEntry(time=0.0005970000000000062, gflopss=0.0, gpointss=0.0, oi=0.0, ops=0, itershapes=[])),\n",
       "                    (PerfKey(name='section2', rank=None),\n",
       "                     PerfEntry(time=0.014187000000000026, gflopss=0.0, gpointss=0.0, oi=0.0, ops=0, itershapes=[]))])"
      ]
     },
     "execution_count": 1014,
     "metadata": {},
     "output_type": "execute_result"
    }
   ],
   "source": [
    "op(time=time_range.num-1, dt=seis_model.critical_dt)"
   ]
  },
  {
   "cell_type": "code",
   "execution_count": 1015,
   "id": "9c55737c-8e14-41cf-9f15-cd010fb2602a",
   "metadata": {},
   "outputs": [
    {
     "data": {
      "image/png": "[encoded data removed]",
      "text/plain": [
       "<Figure size 576x432 with 2 Axes>"
      ]
     },
     "metadata": {
      "needs_background": "light"
     },
     "output_type": "display_data"
    }
   ],
   "source": [
    "plt.imshow(rec.data, cmap='viridis', aspect='auto', vmax=0.01, vmin=-0.01)\n",
    "plt.xlabel(\"Reciever number\")\n",
    "plt.ylabel(\"Time (ms)\")\n",
    "plt.colorbar()\n",
    "plt.show()"
   ]
  },
  {
   "cell_type": "code",
   "execution_count": null,
   "id": "b27445f8-57f4-4320-9052-97e2ed379c25",
   "metadata": {},
   "outputs": [],
   "source": []
  },
  {
   "cell_type": "code",
   "execution_count": null,
   "id": "fb1e262b-d339-4486-b794-f5e333a4c9e9",
   "metadata": {},
   "outputs": [],
   "source": []
  },
  {
   "cell_type": "code",
   "execution_count": null,
   "id": "cbd22b1b-6df7-45a4-bf46-931c336aa1fd",
   "metadata": {},
   "outputs": [],
   "source": []
  }
 ],
 "metadata": {
  "kernelspec": {
   "display_name": "Python 3 (ipykernel)",
   "language": "python",
   "name": "python3"
  },
  "language_info": {
   "codemirror_mode": {
    "name": "ipython",
    "version": 3
   },
   "file_extension": ".py",
   "mimetype": "text/x-python",
   "name": "python",
   "nbconvert_exporter": "python",
   "pygments_lexer": "ipython3",
   "version": "3.9.12"
  }
 },
 "nbformat": 4,
 "nbformat_minor": 5
}
